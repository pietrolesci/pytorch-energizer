{
 "cells": [
  {
   "cell_type": "code",
   "execution_count": 1,
   "metadata": {},
   "outputs": [],
   "source": [
    "%load_ext autoreload\n",
    "%autoreload 2"
   ]
  },
  {
   "cell_type": "code",
   "execution_count": 27,
   "metadata": {},
   "outputs": [
    {
     "data": {
      "text/plain": [
       "100"
      ]
     },
     "execution_count": 27,
     "metadata": {},
     "output_type": "execute_result"
    }
   ],
   "source": [
    "from mnist_example import MNISTDataModule, MNISTModel\n",
    "\n",
    "datamodule = MNISTDataModule(batch_size=10)\n",
    "datamodule.setup()\n",
    "\n",
    "len(datamodule.test_dataloader())"
   ]
  },
  {
   "cell_type": "code",
   "execution_count": 28,
   "metadata": {},
   "outputs": [
    {
     "name": "stdout",
     "output_type": "stream",
     "text": [
      "100\n",
      "100\n"
     ]
    }
   ],
   "source": [
    "from energizer.data.datamodule import ActiveDataModule\n",
    "\n",
    "dm = ActiveDataModule(datamodule=datamodule)\n",
    "dm.setup()\n",
    "dm.setup_folds()\n",
    "\n",
    "dm.is_on_pool = False\n",
    "print(len(dm.test_dataloader()))\n",
    "dm.is_on_pool = True\n",
    "print(len(dm.test_dataloader()))"
   ]
  },
  {
   "cell_type": "code",
   "execution_count": 29,
   "metadata": {},
   "outputs": [],
   "source": [
    "# print(\n",
    "#     len(dm.pool_fold),\n",
    "#     len(dm.test_dataloader()),\n",
    "#     len(dm.train_fold),\n",
    "#     len(dm.train_dataloader()),\n",
    "# )\n",
    "# dm.label(list(range(100)))\n",
    "# print(\n",
    "#     len(dm.pool_fold),\n",
    "#     len(dm.test_dataloader()),\n",
    "#     len(dm.train_fold),\n",
    "#     len(dm.train_dataloader()),\n",
    "# )"
   ]
  },
  {
   "cell_type": "markdown",
   "metadata": {},
   "source": [
    "---"
   ]
  },
  {
   "cell_type": "code",
   "execution_count": 30,
   "metadata": {},
   "outputs": [],
   "source": [
    "import torch\n",
    "from pytorch_lightning import LightningModule\n",
    "from pytorch_lightning import Trainer as pl_Trainer\n",
    "from torch.utils.data import DataLoader\n",
    "\n",
    "from energizer.learners.acquisition_functions import entropy\n",
    "from energizer.learners.base import Deterministic, Learner\n",
    "from energizer.trainer import Trainer"
   ]
  },
  {
   "cell_type": "code",
   "execution_count": 31,
   "metadata": {},
   "outputs": [],
   "source": [
    "class ActiveLearner(Deterministic):\n",
    "    def pool_step(self, batch, *args, **kwargs) -> torch.Tensor:\n",
    "        x, _ = batch\n",
    "        logits = self(x)\n",
    "        scores = entropy(logits)\n",
    "        return scores"
   ]
  },
  {
   "cell_type": "code",
   "execution_count": 32,
   "metadata": {},
   "outputs": [],
   "source": [
    "model = MNISTModel()\n",
    "active_learner = ActiveLearner(model)"
   ]
  },
  {
   "cell_type": "code",
   "execution_count": 37,
   "metadata": {},
   "outputs": [
    {
     "name": "stderr",
     "output_type": "stream",
     "text": [
      "GPU available: False, used: False\n",
      "TPU available: False, using: 0 TPU cores\n",
      "IPU available: False, using: 0 IPUs\n",
      "HPU available: False, using: 0 HPUs\n",
      "\n",
      "  | Name    | Type       | Params\n",
      "---------------------------------------\n",
      "0 | learner | MNISTModel | 184 K \n",
      "---------------------------------------\n",
      "184 K     Trainable params\n",
      "0         Non-trainable params\n",
      "184 K     Total params\n",
      "0.738     Total estimated model params size (MB)\n"
     ]
    },
    {
     "name": "stdout",
     "output_type": "stream",
     "text": [
      "                                                                            "
     ]
    },
    {
     "name": "stderr",
     "output_type": "stream",
     "text": [
      "/Users/pietrolesci/miniconda3/envs/energizer-dev/lib/python3.7/site-packages/pytorch_lightning/trainer/connectors/data_connector.py:245: PossibleUserWarning: The dataloader, val_dataloader 0, does not have many workers which may be a bottleneck. Consider increasing the value of the `num_workers` argument` (try 12 which is the number of cpus on this machine) in the `DataLoader` init to improve performance.\n",
      "  category=PossibleUserWarning,\n",
      "/Users/pietrolesci/miniconda3/envs/energizer-dev/lib/python3.7/site-packages/pytorch_lightning/trainer/connectors/data_connector.py:245: PossibleUserWarning: The dataloader, test_dataloader 0, does not have many workers which may be a bottleneck. Consider increasing the value of the `num_workers` argument` (try 12 which is the number of cpus on this machine) in the `DataLoader` init to improve performance.\n",
      "  category=PossibleUserWarning,\n"
     ]
    },
    {
     "name": "stdout",
     "output_type": "stream",
     "text": [
      "\r"
     ]
    },
    {
     "name": "stderr",
     "output_type": "stream",
     "text": [
      "/Users/pietrolesci/miniconda3/envs/energizer-dev/lib/python3.7/site-packages/pytorch_lightning/trainer/connectors/data_connector.py:245: PossibleUserWarning: The dataloader, train_dataloader, does not have many workers which may be a bottleneck. Consider increasing the value of the `num_workers` argument` (try 12 which is the number of cpus on this machine) in the `DataLoader` init to improve performance.\n",
      "  category=PossibleUserWarning,\n"
     ]
    },
    {
     "name": "stdout",
     "output_type": "stream",
     "text": [
      "Epoch 0: 100%|██████████| 101/101 [00:00<00:00, 145.61it/s, loss=0.563, v_num=396]\n",
      "1\n",
      "1\n",
      "\n",
      "\n",
      "HERE\n",
      "\n",
      "\n",
      "Testing DataLoader 0: 100%|██████████| 100/100 [00:00<00:00, 262.35it/s]\n",
      "Epoch 0: 100%|██████████| 102/102 [00:00<00:00, 172.45it/s, loss=0.549, v_num=396]\n",
      "2\n",
      "2\n",
      "\n",
      "\n",
      "HERE\n",
      "\n",
      "\n",
      "Testing DataLoader 0: 100%|██████████| 100/100 [00:00<00:00, 318.01it/s]\n",
      "Epoch 0: 100%|██████████| 103/103 [00:00<00:00, 162.87it/s, loss=0.929, v_num=396]\n"
     ]
    }
   ],
   "source": [
    "trainer = Trainer(\n",
    "    query_size=2,\n",
    "    max_epochs=5,\n",
    "    max_labelling_iters=3,\n",
    "    log_every_n_steps=1,\n",
    "    test_after_labelling=True,\n",
    ")\n",
    "trainer.active_fit(active_learner, datamodule)"
   ]
  },
  {
   "cell_type": "code",
   "execution_count": 36,
   "metadata": {},
   "outputs": [
    {
     "data": {
      "text/plain": [
       "([100], 3, [98])"
      ]
     },
     "execution_count": 36,
     "metadata": {},
     "output_type": "execute_result"
    }
   ],
   "source": [
    "trainer.num_val_batches, trainer.num_training_batches, trainer.num_test_batches"
   ]
  },
  {
   "cell_type": "code",
   "execution_count": null,
   "metadata": {},
   "outputs": [],
   "source": []
  },
  {
   "cell_type": "code",
   "execution_count": null,
   "metadata": {},
   "outputs": [],
   "source": [
    "pl_trainer = pl_Trainer(max_epochs=1)\n",
    "pl_trainer.fit(active_learner, datamodule)"
   ]
  },
  {
   "cell_type": "code",
   "execution_count": null,
   "metadata": {},
   "outputs": [],
   "source": [
    "pl_trainer.test(active_learner, datamodule)"
   ]
  },
  {
   "cell_type": "code",
   "execution_count": null,
   "metadata": {},
   "outputs": [],
   "source": []
  },
  {
   "cell_type": "code",
   "execution_count": null,
   "metadata": {},
   "outputs": [],
   "source": [
    "trainer.active_learning_loop.active_fit_loop.max_epochs"
   ]
  },
  {
   "cell_type": "code",
   "execution_count": null,
   "metadata": {},
   "outputs": [],
   "source": [
    "test_dl = DataLoader(\n",
    "    [datamodule.mnist_test[i] for i in range(10)],\n",
    "    shuffle=False,\n",
    "    batch_size=2,\n",
    ")\n",
    "x, y = next(iter(test_dl))"
   ]
  },
  {
   "cell_type": "code",
   "execution_count": null,
   "metadata": {},
   "outputs": [],
   "source": [
    "active_learner(x).argmax(-1)"
   ]
  },
  {
   "cell_type": "code",
   "execution_count": null,
   "metadata": {},
   "outputs": [],
   "source": [
    "y"
   ]
  },
  {
   "cell_type": "code",
   "execution_count": null,
   "metadata": {},
   "outputs": [],
   "source": []
  }
 ],
 "metadata": {
  "interpreter": {
   "hash": "195fd7177374df90e8fb0ddf6905c3c94c4a4300f1cc015456754f40bbdfd90b"
  },
  "kernelspec": {
   "display_name": "Python 3.7.11 64-bit ('energizer-dev': conda)",
   "language": "python",
   "name": "python3"
  },
  "language_info": {
   "codemirror_mode": {
    "name": "ipython",
    "version": 3
   },
   "file_extension": ".py",
   "mimetype": "text/x-python",
   "name": "python",
   "nbconvert_exporter": "python",
   "pygments_lexer": "ipython3",
   "version": "3.7.13"
  },
  "orig_nbformat": 4
 },
 "nbformat": 4,
 "nbformat_minor": 2
}
